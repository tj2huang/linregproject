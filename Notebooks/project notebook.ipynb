{
 "cells": [
  {
   "cell_type": "code",
   "execution_count": 37,
   "metadata": {
    "collapsed": true
   },
   "outputs": [],
   "source": [
    "strikes <- read.csv('strikes_clean.csv')"
   ]
  },
  {
   "cell_type": "code",
   "execution_count": 38,
   "metadata": {
    "collapsed": false
   },
   "outputs": [
    {
     "data": {
      "text/html": [
       "<table>\n",
       "<thead><tr><th></th><th scope=col>Country</th><th scope=col>Year</th><th scope=col>Strike</th><th scope=col>Unemp</th><th scope=col>Infl</th><th scope=col>Demo</th><th scope=col>Centr</th><th scope=col>Dens</th></tr></thead>\n",
       "<tbody>\n",
       "\t<tr><th scope=row>1</th><td>Australia</td><td>1951     </td><td>296      </td><td>1.3      </td><td>19.8     </td><td>43       </td><td>0.375    </td><td>56.8     </td></tr>\n",
       "\t<tr><th scope=row>2</th><td>Australia</td><td>1952     </td><td>397      </td><td>2.2      </td><td>17.2     </td><td>43       </td><td>0.375    </td><td>55.4     </td></tr>\n",
       "\t<tr><th scope=row>3</th><td>Australia</td><td>1953     </td><td>360      </td><td>2.5      </td><td>4.3      </td><td>43       </td><td>0.375    </td><td>56.9     </td></tr>\n",
       "\t<tr><th scope=row>4</th><td>Australia</td><td>1954     </td><td>300      </td><td>1.7      </td><td>0.7      </td><td>47       </td><td>0.375    </td><td>58.6     </td></tr>\n",
       "\t<tr><th scope=row>5</th><td>Australia</td><td>1955     </td><td>326      </td><td>1.4      </td><td>2        </td><td>38.5     </td><td>0.375    </td><td>57.6     </td></tr>\n",
       "\t<tr><th scope=row>6</th><td>Australia</td><td>1956     </td><td>352      </td><td>1.8      </td><td>6.3      </td><td>38.5     </td><td>0.375    </td><td>56.6     </td></tr>\n",
       "</tbody>\n",
       "</table>\n"
      ],
      "text/latex": [
       "\\begin{tabular}{r|llllllll}\n",
       "  & Country & Year & Strike & Unemp & Infl & Demo & Centr & Dens\\\\\n",
       "\\hline\n",
       "\t1 & Australia & 1951      & 296       & 1.3       & 19.8      & 43        & 0.375     & 56.8     \\\\\n",
       "\t2 & Australia & 1952      & 397       & 2.2       & 17.2      & 43        & 0.375     & 55.4     \\\\\n",
       "\t3 & Australia & 1953      & 360       & 2.5       & 4.3       & 43        & 0.375     & 56.9     \\\\\n",
       "\t4 & Australia & 1954      & 300       & 1.7       & 0.7       & 47        & 0.375     & 58.6     \\\\\n",
       "\t5 & Australia & 1955      & 326       & 1.4       & 2         & 38.5      & 0.375     & 57.6     \\\\\n",
       "\t6 & Australia & 1956      & 352       & 1.8       & 6.3       & 38.5      & 0.375     & 56.6     \\\\\n",
       "\\end{tabular}\n"
      ],
      "text/plain": [
       "    Country Year Strike Unemp Infl Demo Centr Dens\n",
       "1 Australia 1951    296   1.3 19.8 43.0 0.375 56.8\n",
       "2 Australia 1952    397   2.2 17.2 43.0 0.375 55.4\n",
       "3 Australia 1953    360   2.5  4.3 43.0 0.375 56.9\n",
       "4 Australia 1954    300   1.7  0.7 47.0 0.375 58.6\n",
       "5 Australia 1955    326   1.4  2.0 38.5 0.375 57.6\n",
       "6 Australia 1956    352   1.8  6.3 38.5 0.375 56.6"
      ]
     },
     "metadata": {},
     "output_type": "display_data"
    }
   ],
   "source": [
    "head(strikes)"
   ]
  },
  {
   "cell_type": "code",
   "execution_count": 7,
   "metadata": {
    "collapsed": false
   },
   "outputs": [],
   "source": [
    "# pairs(~ Strike + Unemp + Infl + Demo + Centr + Dens, data=strikes)"
   ]
  },
  {
   "cell_type": "code",
   "execution_count": 39,
   "metadata": {
    "collapsed": true
   },
   "outputs": [],
   "source": [
    "strikes2 <- strikes[strikes['Strike'] > 0,]"
   ]
  },
  {
   "cell_type": "code",
   "execution_count": 40,
   "metadata": {
    "collapsed": false
   },
   "outputs": [
    {
     "data": {
      "text/html": [
       "605"
      ],
      "text/latex": [
       "605"
      ],
      "text/markdown": [
       "605"
      ],
      "text/plain": [
       "[1] 605"
      ]
     },
     "metadata": {},
     "output_type": "display_data"
    }
   ],
   "source": [
    "nrow(strikes2)"
   ]
  },
  {
   "cell_type": "code",
   "execution_count": 41,
   "metadata": {
    "collapsed": false
   },
   "outputs": [],
   "source": [
    "strikes2[, 'Strike'] <- log(strikes2[, 'Strike'])"
   ]
  },
  {
   "cell_type": "code",
   "execution_count": 43,
   "metadata": {
    "collapsed": false
   },
   "outputs": [
    {
     "data": {
      "text/html": [
       "<table>\n",
       "<thead><tr><th></th><th scope=col>Country</th><th scope=col>Year</th><th scope=col>Strike</th><th scope=col>Unemp</th><th scope=col>Infl</th><th scope=col>Demo</th><th scope=col>Centr</th><th scope=col>Dens</th></tr></thead>\n",
       "<tbody>\n",
       "\t<tr><th scope=row>1</th><td>Australia       </td><td>1951            </td><td>5.69035945432406</td><td>1.3             </td><td>19.8            </td><td>43              </td><td>0.375           </td><td>56.8            </td></tr>\n",
       "\t<tr><th scope=row>2</th><td>Australia       </td><td>1952            </td><td>5.98393628068719</td><td>2.2             </td><td>17.2            </td><td>43              </td><td>0.375           </td><td>55.4            </td></tr>\n",
       "\t<tr><th scope=row>3</th><td>Australia       </td><td>1953            </td><td>5.88610403145016</td><td>2.5             </td><td>4.3             </td><td>43              </td><td>0.375           </td><td>56.9            </td></tr>\n",
       "\t<tr><th scope=row>4</th><td>Australia      </td><td>1954           </td><td>5.7037824746562</td><td>1.7            </td><td>0.7            </td><td>47             </td><td>0.375          </td><td>58.6           </td></tr>\n",
       "\t<tr><th scope=row>5</th><td>Australia       </td><td>1955            </td><td>5.78689738136671</td><td>1.4             </td><td>2               </td><td>38.5            </td><td>0.375           </td><td>57.6            </td></tr>\n",
       "\t<tr><th scope=row>6</th><td>Australia      </td><td>1956           </td><td>5.8636311755981</td><td>1.8            </td><td>6.3            </td><td>38.5           </td><td>0.375          </td><td>56.6           </td></tr>\n",
       "</tbody>\n",
       "</table>\n"
      ],
      "text/latex": [
       "\\begin{tabular}{r|llllllll}\n",
       "  & Country & Year & Strike & Unemp & Infl & Demo & Centr & Dens\\\\\n",
       "\\hline\n",
       "\t1 & Australia        & 1951             & 5.69035945432406 & 1.3              & 19.8             & 43               & 0.375            & 56.8            \\\\\n",
       "\t2 & Australia        & 1952             & 5.98393628068719 & 2.2              & 17.2             & 43               & 0.375            & 55.4            \\\\\n",
       "\t3 & Australia        & 1953             & 5.88610403145016 & 2.5              & 4.3              & 43               & 0.375            & 56.9            \\\\\n",
       "\t4 & Australia       & 1954            & 5.7037824746562 & 1.7             & 0.7             & 47              & 0.375           & 58.6           \\\\\n",
       "\t5 & Australia        & 1955             & 5.78689738136671 & 1.4              & 2                & 38.5             & 0.375            & 57.6            \\\\\n",
       "\t6 & Australia       & 1956            & 5.8636311755981 & 1.8             & 6.3             & 38.5            & 0.375           & 56.6           \\\\\n",
       "\\end{tabular}\n"
      ],
      "text/plain": [
       "    Country Year   Strike Unemp Infl Demo Centr Dens\n",
       "1 Australia 1951 5.690359   1.3 19.8 43.0 0.375 56.8\n",
       "2 Australia 1952 5.983936   2.2 17.2 43.0 0.375 55.4\n",
       "3 Australia 1953 5.886104   2.5  4.3 43.0 0.375 56.9\n",
       "4 Australia 1954 5.703782   1.7  0.7 47.0 0.375 58.6\n",
       "5 Australia 1955 5.786897   1.4  2.0 38.5 0.375 57.6\n",
       "6 Australia 1956 5.863631   1.8  6.3 38.5 0.375 56.6"
      ]
     },
     "metadata": {},
     "output_type": "display_data"
    }
   ],
   "source": [
    "head(strikes2)"
   ]
  },
  {
   "cell_type": "code",
   "execution_count": 49,
   "metadata": {
    "collapsed": false,
    "scrolled": false
   },
   "outputs": [
    {
     "data": {
      "text/plain": [
       "\n",
       "Call:\n",
       "lm(formula = Strike ~ . - 1, data = strikes2)\n",
       "\n",
       "Residuals:\n",
       "    Min      1Q  Median      3Q     Max \n",
       "-3.3661 -0.6925 -0.0231  0.6270  4.1252 \n",
       "\n",
       "Coefficients: (1 not defined because of singularities)\n",
       "                      Estimate Std. Error t value Pr(>|t|)    \n",
       "CountryAustralia     45.087970  11.565246   3.899 0.000108 ***\n",
       "CountryAustria       41.723613  11.554444   3.611 0.000331 ***\n",
       "CountryBelgium       44.602795  11.562742   3.857 0.000127 ***\n",
       "CountryCanada        46.404849  11.579377   4.008 6.93e-05 ***\n",
       "CountryDenmark       42.398916  11.525480   3.679 0.000256 ***\n",
       "CountryFinland       44.433362  11.574117   3.839 0.000137 ***\n",
       "CountryFrance        45.606578  11.615467   3.926 9.66e-05 ***\n",
       "CountryGermany       42.501586  11.604313   3.663 0.000272 ***\n",
       "CountryIreland       45.389666  11.531236   3.936 9.28e-05 ***\n",
       "CountryItaly         46.297460  11.543266   4.011 6.84e-05 ***\n",
       "CountryJapan         44.616897  11.616898   3.841 0.000136 ***\n",
       "CountryNetherlands   42.452898  11.593197   3.662 0.000273 ***\n",
       "CountryNewZealand    44.651737  11.597865   3.850 0.000131 ***\n",
       "CountryNorway        42.484338  11.577659   3.670 0.000265 ***\n",
       "CountrySweden        41.446890  11.547339   3.589 0.000360 ***\n",
       "CountrySwitzerland   40.918821  11.628973   3.519 0.000468 ***\n",
       "CountryUnitedKingdom 44.930286  11.571376   3.883 0.000115 ***\n",
       "CountryUnitedStates  46.226168  11.590995   3.988 7.51e-05 ***\n",
       "Year                 -0.021168   0.005954  -3.555 0.000408 ***\n",
       "Unemp                 0.015452   0.022925   0.674 0.500553    \n",
       "Infl                  0.055102   0.012119   4.547 6.64e-06 ***\n",
       "Demo                  0.002448   0.006468   0.378 0.705255    \n",
       "Centr                       NA         NA      NA       NA    \n",
       "Dens                  0.034493   0.007441   4.636 4.40e-06 ***\n",
       "---\n",
       "Signif. codes:  0 '***' 0.001 '**' 0.01 '*' 0.05 '.' 0.1 ' ' 1\n",
       "\n",
       "Residual standard error: 1.145 on 582 degrees of freedom\n",
       "Multiple R-squared:  0.9475,\tAdjusted R-squared:  0.9454 \n",
       "F-statistic: 456.9 on 23 and 582 DF,  p-value: < 2.2e-16\n"
      ]
     },
     "metadata": {},
     "output_type": "display_data"
    }
   ],
   "source": [
    "M <- lm(Strike ~ . -1, data=strikes2)\n",
    "summary(M)"
   ]
  }
 ],
 "metadata": {
  "kernelspec": {
   "display_name": "R",
   "language": "R",
   "name": "ir"
  },
  "language_info": {
   "codemirror_mode": "r",
   "file_extension": ".r",
   "mimetype": "text/x-r-source",
   "name": "R",
   "pygments_lexer": "r",
   "version": "3.3.1"
  }
 },
 "nbformat": 4,
 "nbformat_minor": 0
}
